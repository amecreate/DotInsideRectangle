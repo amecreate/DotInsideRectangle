{
 "cells": [
  {
   "cell_type": "markdown",
   "id": "twenty-radar",
   "metadata": {},
   "source": [
    "# Check if a dot is inside a rectangle\n",
    "\n",
    "Assuming the rectangle is represented by three points A,B,C, with AB and BC perpendicular. \n",
    "\n",
    "To check if dot M is inside this rectangle, we only need to check the projection of M on AB and AC.\n",
    "\n",
    "If 0 $\\leq$ Projection of **AM** on **AB** $\\leq$ lenth of **AB**, the dot is within bounds of AC and BD.\n",
    "\n",
    "If 0 $\\leq$ Projection of **AM** on **AC** $\\leq$ lenth of **AC**, the dot is whithin bounds of AB and CD.\n",
    "\n",
    "## In vector space using dot product and law of cosines\n",
    "\n",
    "Assume the angle between **AM** and **AB** is $\\theta$. \n",
    "\n",
    "The projection of **AM** on **AB** = |**AM**| $\\cos\\theta$ \n",
    "\n",
    "Given dot product defintion: **AB** $\\cdot$ **AM** = |**AB**| |**AM**| $\\cos\\theta$\n",
    "\n",
    "The projection of **AM** on **AB** = |**AM**| $\\cos\\theta$ = $\\frac{AB\\cdot AM}{|AB|}$\n",
    "\n",
    "Given 0 $\\leq$ Projection of **AM** on **AB** $\\leq$ lenth of **AB** \n",
    "\n",
    "0 $\\leq$ $\\frac{AB\\cdot AM}{|AB|}$ $\\leq$ |**AB**|\n",
    "\n",
    "Simplified as 0 $\\leq$ **AB** $\\cdot$ **AM** $\\leq$ **AB** $\\cdot$ **AB**    (In vector spaces |**AB**|$^2$ = **AB** $\\cdot$ **AB**)\n",
    "\n",
    "In the same sense: 0 $\\leq$ **AC** $\\cdot$ **AM** $\\leq$ **AC** $\\cdot$ **AC**\n"
   ]
  },
  {
   "cell_type": "markdown",
   "id": "italian-sustainability",
   "metadata": {},
   "source": [
    "## Now let's find coordinates of A, B, C, M \n",
    "\n",
    "A $(a_1, a_2)$\n",
    "\n",
    "B $(b_{1}, b_{2})$\n",
    "\n",
    "C $(c_{1}, c_{2})$\n",
    "\n",
    "M $(m_{1}, m_{2})$\n",
    "\n",
    "vector **AB** $<b_1 - a_1, b_2 - a_2>$\n",
    "\n",
    "vector **AC** $<c_1 - a_1, c_2 - a_2>$\n",
    "\n",
    "vector **AM** $<m_1 - a_1, m_2 - a_2>$\n",
    "\n",
    "Dot product **AB** $\\cdot$ **AM** = $(b_1 - a_1)(m_1 - a_1) + (b_2 - a_2)(m_2 - a_2)$\n",
    "\n",
    "Dot product **AB** $\\cdot$ **AB** = $(b_1 - a_1)^2 + (b_2 - a_2)^2$\n",
    "\n",
    "Dot product **AB** $\\cdot$ **AC** = $(b_1 - a_1)(c_1 - a_1) + (b_2 - a_2)(c_2 - a_2)$\n",
    "\n",
    "Dot product **AC** $\\cdot$ **AC** = $(c_1 - a_1)^2 + (c_2 - a_2)^2$\n",
    "\n"
   ]
  },
  {
   "cell_type": "markdown",
   "id": "departmental-australia",
   "metadata": {},
   "source": [
    "## What if the rectangle rotate 45 degrees? Here's how to find new coordinates.\n",
    "\n",
    "Assuming the rectangle rotate by its center.(the intersection point of its diagonals)\n",
    "\n",
    "Given a point $(x_1, y_1)$. The point also defines the origin vector $<x_1, y_1>$. The vector $<x_1, y_1>$ has length L.\n",
    "\n",
    "Rotate this vector anticlockwise around the origin by $\\beta$ degrees.\n",
    "\n",
    "The rotated vector must also have length L.\n",
    "\n",
    "$x_2 = \\cos\\beta x_1 - \\sin\\beta y_1$\n",
    "\n",
    "$y_2 = \\sin\\beta x_1 + \\cos\\beta y_1$\n",
    "\n",
    "In the case that $\\beta$ = 45 degrees:\n",
    "\n",
    "$\\cos\\beta = \\sin\\beta = \\frac{\\sqrt{2}}{2}$\n"
   ]
  },
  {
   "cell_type": "markdown",
   "id": "robust-logistics",
   "metadata": {},
   "source": [
    "\n",
    "## References:\n",
    "\n",
    "[formula for rotating a vector in 2D](https://matthew-brett.github.io/teaching/rotation_2d.html)\n",
    "\n",
    "[how-to-check-if-a-point-is-inside-a-rectangle](https://math.stackexchange.com/questions/190111/how-to-check-if-a-point-is-inside-a-rectangle)\n",
    "\n",
    "[Finding whether a point lies inside a rectangle or not](https://stackoverflow.com/questions/2752725/finding-whether-a-point-lies-inside-a-rectangle-or-not)\n",
    "\n",
    "[dot product](https://en.wikipedia.org/wiki/Dot_product)\n",
    "\n",
    "[Simple Fun #27: Rectangle Rotation](https://www.codewars.com/kata/5886e082a836a691340000c3?utm_source=newsletter)"
   ]
  }
 ],
 "metadata": {
  "kernelspec": {
   "display_name": "Python 3",
   "language": "python",
   "name": "python3"
  },
  "language_info": {
   "codemirror_mode": {
    "name": "ipython",
    "version": 3
   },
   "file_extension": ".py",
   "mimetype": "text/x-python",
   "name": "python",
   "nbconvert_exporter": "python",
   "pygments_lexer": "ipython3",
   "version": "3.7.3"
  }
 },
 "nbformat": 4,
 "nbformat_minor": 5
}
