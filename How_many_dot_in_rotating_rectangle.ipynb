{
 "cells": [
  {
   "cell_type": "markdown",
   "id": "professional-seafood",
   "metadata": {},
   "source": [
    "Codewars: \n",
    "\n",
    "[Simple Fun #27: Rectangle Rotation](https://www.codewars.com/kata/5886e082a836a691340000c3?utm_source=newsletter)\n",
    "\n",
    "Also check Python Jupyter Script/Dot_in_Rectangle.ipynb\n"
   ]
  },
  {
   "cell_type": "code",
   "execution_count": 1,
   "id": "mysterious-consideration",
   "metadata": {},
   "outputs": [],
   "source": [
    "import itertools\n",
    "import math\n",
    "import numpy as np"
   ]
  },
  {
   "cell_type": "code",
   "execution_count": 2,
   "id": "literary-simulation",
   "metadata": {},
   "outputs": [
    {
     "name": "stdout",
     "output_type": "stream",
     "text": [
      "[0, 1]\n",
      "[0, 1, 2]\n",
      "[(0, 0), (0, 1), (0, 2), (1, 0), (1, 1), (1, 2)]\n"
     ]
    }
   ],
   "source": [
    "#test itertools.product() \n",
    "x = list(range(2))\n",
    "y = list(range(3))\n",
    "print(x)\n",
    "print(y)\n",
    "combine = list(itertools.product(x, y))\n",
    "print(combine)"
   ]
  },
  {
   "cell_type": "markdown",
   "id": "thousand-shadow",
   "metadata": {},
   "source": [
    "# Rectangle before rotate\n",
    "\n",
    "a = 6 #length\n",
    "b = 4 #width\n",
    "\n",
    "B-------------D\n",
    "\n",
    "A-------------C\n",
    "\n",
    "AC = a\n",
    "\n",
    "AB = b\n",
    "\n",
    "A (a1, a2) (-0.5*a, -0.5*b)\n",
    "\n",
    "B (b1, b2) (-0.5*a, 0.5*b)\n",
    "\n",
    "C (c1, c2) (0.5*a, -0.5*b)\n",
    "\n",
    "D (d1, d2) (0.5*a, 0.5*b)\n",
    "\n"
   ]
  },
  {
   "cell_type": "markdown",
   "id": "green-torture",
   "metadata": {},
   "source": [
    "# Rectangle after rotate 45 degrees counterclockwise\n",
    "\n",
    "A $(\\frac{\\sqrt{2}}{2}(a1 - a2), \\frac{\\sqrt{2}}{2}(a1+a2))$\n",
    "\n",
    "B $(\\frac{\\sqrt{2}}{2}(b1 - b2), \\frac{\\sqrt{2}}{2}(b1+b2))$\n",
    "\n",
    "C $(\\frac{\\sqrt{2}}{2}(c1 - c2), \\frac{\\sqrt{2}}{2}(c1+c2))$\n",
    "\n",
    "D $(\\frac{\\sqrt{2}}{2}(d1 - d2), \\frac{\\sqrt{2}}{2}(d1+d2))$\n",
    "\n",
    "Bounding box after rotation:\n",
    "\n",
    "Min x: Bx\n",
    "\n",
    "Max x: Cx\n",
    "\n",
    "Min y: Ay\n",
    "\n",
    "Max y: Dy\n"
   ]
  },
  {
   "cell_type": "code",
   "execution_count": 3,
   "id": "solved-client",
   "metadata": {},
   "outputs": [
    {
     "name": "stdout",
     "output_type": "stream",
     "text": [
      "(-3.0, -2.0)\n",
      "(-3.0, 2.0)\n",
      "(3.0, -2.0)\n",
      "(3.0, 2.0)\n"
     ]
    }
   ],
   "source": [
    "a = 6\n",
    "b = 4\n",
    "\n",
    "Ax = -0.5*a\n",
    "Ay = -0.5*b\n",
    "Bx = -0.5*a\n",
    "By = 0.5*b\n",
    "Cx = 0.5*a\n",
    "Cy = -0.5*b\n",
    "Dx = 0.5*a\n",
    "Dy = 0.5*b\n",
    "\n",
    "print(f\"{Ax, Ay}\")\n",
    "print(f\"{Bx, By}\")\n",
    "print(f\"{Cx, Cy}\")\n",
    "print(f\"{Dx, Dy}\")\n"
   ]
  },
  {
   "cell_type": "code",
   "execution_count": 4,
   "id": "cognitive-ferry",
   "metadata": {},
   "outputs": [
    {
     "name": "stdout",
     "output_type": "stream",
     "text": [
      "-0.7071067811865479 -3.5355339059327378\n",
      "-3.5355339059327378 -0.7071067811865472\n",
      "3.5355339059327378 0.7071067811865472\n",
      "0.7071067811865479 3.5355339059327378\n"
     ]
    }
   ],
   "source": [
    "# after rotation\n",
    "\n",
    "def get_coord(x,y):\n",
    "    x2 = math.cos(math.pi/4)*x - math.sin(math.pi/4)*y \n",
    "    y2 = math.sin(math.pi/4)*x + math.cos(math.pi/4)*y \n",
    "    return x2,y2\n",
    "\n",
    "a1, a2 = get_coord(Ax, Ay)\n",
    "b1, b2 = get_coord(Bx, By)\n",
    "c1, c2 = get_coord(Cx, Cy)\n",
    "d1, d2 = get_coord(Dx, Dy)\n",
    "\n",
    "print(a1, a2)\n",
    "print(b1,b2)\n",
    "print(c1,c2)\n",
    "print(d1,d2)\n",
    "\n",
    "# coordinates of the bounding box\n",
    "left_x = round(b1)\n",
    "right_x = round(c1)\n",
    "bottom_y = round(a2)\n",
    "top_y = round(d2)\n"
   ]
  },
  {
   "cell_type": "code",
   "execution_count": 5,
   "id": "statistical-baptist",
   "metadata": {},
   "outputs": [
    {
     "name": "stdout",
     "output_type": "stream",
     "text": [
      "[(-4, -4), (-4, -3), (-4, -2), (-4, -1), (-4, 0), (-4, 1), (-4, 2), (-4, 3), (-4, 4), (-3, -4), (-3, -3), (-3, -2), (-3, -1), (-3, 0), (-3, 1), (-3, 2), (-3, 3), (-3, 4), (-2, -4), (-2, -3), (-2, -2), (-2, -1), (-2, 0), (-2, 1), (-2, 2), (-2, 3), (-2, 4), (-1, -4), (-1, -3), (-1, -2), (-1, -1), (-1, 0), (-1, 1), (-1, 2), (-1, 3), (-1, 4), (0, -4), (0, -3), (0, -2), (0, -1), (0, 0), (0, 1), (0, 2), (0, 3), (0, 4), (1, -4), (1, -3), (1, -2), (1, -1), (1, 0), (1, 1), (1, 2), (1, 3), (1, 4), (2, -4), (2, -3), (2, -2), (2, -1), (2, 0), (2, 1), (2, 2), (2, 3), (2, 4), (3, -4), (3, -3), (3, -2), (3, -1), (3, 0), (3, 1), (3, 2), (3, 3), (3, 4), (4, -4), (4, -3), (4, -2), (4, -1), (4, 0), (4, 1), (4, 2), (4, 3), (4, 4)]\n",
      "81\n"
     ]
    }
   ],
   "source": [
    "# integer coordinates to be checked\n",
    "test_x = list(range(left_x, right_x+1))\n",
    "test_y = list(range(bottom_y, top_y+1))\n",
    "test_combine = list(itertools.product(test_x,test_y))\n",
    "print(test_combine)\n",
    "print(len(test_combine))"
   ]
  },
  {
   "cell_type": "markdown",
   "id": "minute-perfume",
   "metadata": {},
   "source": [
    "# Dot inside rectangle?\n",
    "\n",
    "0 $\\leq$ **AB** $\\cdot$ **AM** $\\leq$ **AB** $\\cdot$ **AB** \n",
    "\n",
    "AND\n",
    "\n",
    "0 $\\leq$ **AC** $\\cdot$ **AM** $\\leq$ **AC** $\\cdot$ **AC**\n",
    "\n",
    "A (a1,a2)\n",
    "\n",
    "B (b1,b2)\n",
    "\n",
    "M (m1,m2)\n",
    "\n",
    "vector **AB** : <b1-a1, b2-a2>\n",
    "\n",
    "vector **AM** : <m1-a1, m2-a1>\n",
    "\n",
    "Dot product **AB** $\\cdot$ **AM** = $(b_1 - a_1)(m_1 - a_1) + (b_2 - a_2)(m_2 - a_2)$\n",
    "\n",
    "Dot product **AB** $\\cdot$ **AB** = $(b_1 - a_1)^2 + (b_2 - a_2)^2$\n"
   ]
  },
  {
   "cell_type": "code",
   "execution_count": 6,
   "id": "unavailable-tournament",
   "metadata": {},
   "outputs": [
    {
     "name": "stdout",
     "output_type": "stream",
     "text": [
      "-0.7071067811865479 -3.5355339059327378\n",
      "[-2.292893218813452, 2.5355339059327378]\n",
      "[4.242640687119286, 4.242640687119285]\n",
      "13.65685424949238\n",
      "16.0\n",
      "1.0294372515228591\n",
      "36.0\n"
     ]
    }
   ],
   "source": [
    "#test np.dot()\n",
    "m1 =-3\n",
    "m2 =-1\n",
    "AB = [b1-a1,b2-a2]\n",
    "AM = [m1-a1,m2-a2]\n",
    "AC = [c1-a1,c2-a2]\n",
    "print(a1,a2)\n",
    "print(AM)\n",
    "print(AC)\n",
    "print(np.dot(AB,AM))\n",
    "print(np.dot(AB,AB))\n",
    "print(np.dot(AC,AM))\n",
    "print(np.dot(AC,AC))"
   ]
  },
  {
   "cell_type": "code",
   "execution_count": 7,
   "id": "opened-mission",
   "metadata": {},
   "outputs": [],
   "source": [
    "# check if a dot is inside a rectangle\n",
    "def check_dot(x,y):\n",
    "    m1 = x\n",
    "    m2 = y\n",
    "    \n",
    "    AB = [b1-a1,b2-a2]\n",
    "    AM = [m1-a1,m2-a2]\n",
    "    AC = [c1-a1,c2-a2]\n",
    "    \n",
    "    ABAM = np.dot(AB, AM)\n",
    "    ABAB = np.dot(AB, AB)\n",
    "    ACAM = np.dot(AC, AM)\n",
    "    ACAC = np.dot(AC, AC)\n",
    "    \n",
    "    if (0 <= ABAM <= ABAB) and (0 <= ACAM <= ACAC):\n",
    "        return True\n",
    "    return False"
   ]
  },
  {
   "cell_type": "code",
   "execution_count": 8,
   "id": "afraid-midwest",
   "metadata": {},
   "outputs": [
    {
     "data": {
      "text/plain": [
       "False"
      ]
     },
     "execution_count": 8,
     "metadata": {},
     "output_type": "execute_result"
    }
   ],
   "source": [
    "# test check_dot function\n",
    "check_dot(2,3)"
   ]
  },
  {
   "cell_type": "code",
   "execution_count": 9,
   "id": "crazy-output",
   "metadata": {},
   "outputs": [
    {
     "name": "stdout",
     "output_type": "stream",
     "text": [
      "(-3, -1)\n",
      "(-2, -2)\n",
      "(-2, -1)\n",
      "(-2, 0)\n",
      "(-1, -3)\n",
      "(-1, -2)\n",
      "(-1, -1)\n",
      "(-1, 0)\n",
      "(-1, 1)\n",
      "(0, -2)\n",
      "(0, -1)\n",
      "(0, 0)\n",
      "(0, 1)\n",
      "(0, 2)\n",
      "(1, -1)\n",
      "(1, 0)\n",
      "(1, 1)\n",
      "(1, 2)\n",
      "(1, 3)\n",
      "(2, 0)\n",
      "(2, 1)\n",
      "(2, 2)\n",
      "(3, 1)\n",
      "23\n"
     ]
    }
   ],
   "source": [
    "output = 0\n",
    "for i in test_combine:\n",
    "    if check_dot(i[0], i[1]):\n",
    "        print(i)\n",
    "        output += 1\n",
    "print(output)"
   ]
  },
  {
   "cell_type": "code",
   "execution_count": null,
   "id": "partial-lingerie",
   "metadata": {},
   "outputs": [],
   "source": []
  }
 ],
 "metadata": {
  "kernelspec": {
   "display_name": "Python 3",
   "language": "python",
   "name": "python3"
  },
  "language_info": {
   "codemirror_mode": {
    "name": "ipython",
    "version": 3
   },
   "file_extension": ".py",
   "mimetype": "text/x-python",
   "name": "python",
   "nbconvert_exporter": "python",
   "pygments_lexer": "ipython3",
   "version": "3.7.3"
  }
 },
 "nbformat": 4,
 "nbformat_minor": 5
}
